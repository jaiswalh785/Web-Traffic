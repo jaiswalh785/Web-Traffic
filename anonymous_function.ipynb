{
 "cells": [
  {
   "cell_type": "markdown",
   "metadata": {},
   "source": [
    "lambda expression\n",
    "\n",
    "- f(x) = x + 10 - x * 3\n",
    "- f(3)"
   ]
  },
  {
   "cell_type": "code",
   "execution_count": 4,
   "metadata": {},
   "outputs": [
    {
     "data": {
      "text/plain": [
       "-702"
      ]
     },
     "execution_count": 4,
     "metadata": {},
     "output_type": "execute_result"
    }
   ],
   "source": [
    "def eq(x):\n",
    "    return x + 10 - x * 3\n",
    "eq(356)"
   ]
  },
  {
   "cell_type": "markdown",
   "metadata": {},
   "source": [
    "`lambda var : expression`\n",
    "\n",
    "`lambda var1, var2 : expression`"
   ]
  },
  {
   "cell_type": "code",
   "execution_count": 5,
   "metadata": {},
   "outputs": [
    {
     "data": {
      "text/plain": [
       "4"
      ]
     },
     "execution_count": 5,
     "metadata": {},
     "output_type": "execute_result"
    }
   ],
   "source": [
    "f = lambda x: x + 10 - x * 3\n",
    "f(3)"
   ]
  },
  {
   "cell_type": "code",
   "execution_count": 4,
   "metadata": {},
   "outputs": [
    {
     "data": {
      "text/plain": [
       "11"
      ]
     },
     "execution_count": 4,
     "metadata": {},
     "output_type": "execute_result"
    }
   ],
   "source": [
    "g = lambda x, y: x + y * x - y\n",
    "g(3,4)"
   ]
  },
  {
   "cell_type": "markdown",
   "metadata": {},
   "source": [
    "anonymus function are used in mostly when large data operation is involved with help of `map,filter` and `pd.apply` fuction"
   ]
  },
  {
   "cell_type": "code",
   "execution_count": 6,
   "metadata": {},
   "outputs": [
    {
     "data": {
      "text/plain": [
       "[11, 12, 13, 14, 15, 16, 17, 18, 19, 20]"
      ]
     },
     "execution_count": 6,
     "metadata": {},
     "output_type": "execute_result"
    }
   ],
   "source": [
    "x = list(range(1,11)) # 1~100\n",
    "\n",
    "# add 10 to each element of x\n",
    "list(map(lambda i: i + 10, x))"
   ]
  },
  {
   "cell_type": "code",
   "execution_count": 7,
   "metadata": {},
   "outputs": [],
   "source": [
    "# cube each element of x"
   ]
  },
  {
   "cell_type": "code",
   "execution_count": 8,
   "metadata": {},
   "outputs": [
    {
     "data": {
      "text/plain": [
       "[65]"
      ]
     },
     "execution_count": 8,
     "metadata": {},
     "output_type": "execute_result"
    }
   ],
   "source": [
    "# multiple input in a single input functions\n",
    "list(map(int, input().split(',')))"
   ]
  },
  {
   "cell_type": "code",
   "execution_count": 9,
   "metadata": {},
   "outputs": [
    {
     "data": {
      "text/plain": [
       "[5, 3, 5, 5]"
      ]
     },
     "execution_count": 9,
     "metadata": {},
     "output_type": "execute_result"
    }
   ],
   "source": [
    "names = ['Alice', 'Bob', 'Cathy', 'David']\n",
    "# count the number of characters in each name using lamba exp and map\n",
    "list(map(len,names))"
   ]
  },
  {
   "cell_type": "code",
   "execution_count": 10,
   "metadata": {},
   "outputs": [
    {
     "data": {
      "text/plain": [
       "[1, 2, 3, 4, 5, 6, 7, 8, 9, 10]"
      ]
     },
     "execution_count": 10,
     "metadata": {},
     "output_type": "execute_result"
    }
   ],
   "source": [
    "x"
   ]
  },
  {
   "cell_type": "code",
   "execution_count": 12,
   "metadata": {},
   "outputs": [
    {
     "data": {
      "text/plain": [
       "[3, 6, 9]"
      ]
     },
     "execution_count": 12,
     "metadata": {},
     "output_type": "execute_result"
    }
   ],
   "source": [
    "list(filter(lambda i: i % 3 == 0, x))"
   ]
  },
  {
   "cell_type": "code",
   "execution_count": 4,
   "metadata": {},
   "outputs": [
    {
     "ename": "TypeError",
     "evalue": "'module' object is not callable",
     "output_type": "error",
     "traceback": [
      "\u001b[1;31m---------------------------------------------------------------------------\u001b[0m",
      "\u001b[1;31mTypeError\u001b[0m                                 Traceback (most recent call last)",
      "\u001b[1;32mc:\\vscode\\PYTHON\\anonymous_function.ipynb Cell 13'\u001b[0m in \u001b[0;36m<module>\u001b[1;34m\u001b[0m\n\u001b[0;32m      <a href='vscode-notebook-cell:/c%3A/vscode/PYTHON/anonymous_function.ipynb#ch0000012?line=4'>5</a>\u001b[0m     graph[u]\u001b[39m.\u001b[39mappend(v)\n\u001b[0;32m      <a href='vscode-notebook-cell:/c%3A/vscode/PYTHON/anonymous_function.ipynb#ch0000012?line=5'>6</a>\u001b[0m     adjMat[\u001b[39mint\u001b[39m(u)][\u001b[39mint\u001b[39m(v)] \u001b[39m=\u001b[39m \u001b[39mint\u001b[39m(w)\n\u001b[1;32m----> <a href='vscode-notebook-cell:/c%3A/vscode/PYTHON/anonymous_function.ipynb#ch0000012?line=7'>8</a>\u001b[0m q \u001b[39m=\u001b[39m heapq() \u001b[39m#Open list\u001b[39;00m\n\u001b[0;32m      <a href='vscode-notebook-cell:/c%3A/vscode/PYTHON/anonymous_function.ipynb#ch0000012?line=8'>9</a>\u001b[0m closed \u001b[39m=\u001b[39m []\n\u001b[0;32m     <a href='vscode-notebook-cell:/c%3A/vscode/PYTHON/anonymous_function.ipynb#ch0000012?line=9'>10</a>\u001b[0m p \u001b[39m=\u001b[39m defaultdict(\u001b[39mstr\u001b[39m)\n",
      "\u001b[1;31mTypeError\u001b[0m: 'module' object is not callable"
     ]
    }
   ],
   "source": [
    "from collections import defaultdict\n",
    "import heapq\n",
    "graph = defaultdict(list)\n",
    "def addEdge(u, v, w):\n",
    "    graph[u].append(v)\n",
    "    adjMat[int(u)][int(v)] = int(w)\n",
    "\n",
    "q = heapq() #Open list\n",
    "closed = []\n",
    "p = defaultdict(str)\n",
    "\n",
    "def AStar(s):\n",
    "    q[s] = f[int(s)]\n",
    "    while q:\n",
    "        u = q.popitem()[0] #('0', 14)\n",
    "        closed.append(u)\n",
    "    for v in graph[u]:\n",
    "        if(not(v in closed) and g[int(v)] > g[int(u)]+adjMat[int(u)][int(v)]):\n",
    "            g[int(v)] = g[int(u)]+adjMat[int(u)][int(v)]\n",
    "            f[int(v)] = g[int(v)] + h[int(v)]\n",
    "            p[v] = u\n",
    "            q[v] = f[int(v)]\n",
    "\n",
    "# Path Generation\n",
    "def printPath(x,s,p):\n",
    "    stack = []\n",
    "    stack.append(x)\n",
    "while stack[-1] is not s: #Path Generation\n",
    "    stack.append(p[stack[-1]])\n",
    "while stack:\n",
    "    print(stack.pop(),end = \"->\")\n",
    "\n",
    "# Driver Code\n",
    "\n",
    "n = int(input(\"Enter the number of nodes: \"))\n",
    "e = int(input(\"Enter number of edges: \"))\n",
    "\n",
    "adjMat = [[0 for i in range(n)] for i in range(n)]\n",
    "h = [0 for i in range(n)]\n",
    "f = [1e7 for i in range(n)]\n",
    "g = [1e7 for i in range(n)]\n",
    "\n",
    "for i in range(n):\n",
    "    h[i] = int(input(\"Enter value: \"))\n",
    "\n",
    "for i in range(e):\n",
    "    u, v, w = input(\"Enter edge: \").split()\n",
    "    addEdge(u,v,w)\n",
    "\n",
    "s = input(\"Enter the source node: \")\n",
    "g[int(s)] = 0\n",
    "f[int(s)] = g[int(s)] + h[int(s)]\n",
    "AStar(s)\n",
    "print(p)\n",
    "x = input(\"Enter the vertex for which you want to generate path: \")\n",
    "printPath(x,s,p)"
   ]
  },
  {
   "cell_type": "code",
   "execution_count": 15,
   "metadata": {},
   "outputs": [],
   "source": [
    "from collections import defaultdict\n",
    "\n",
    "graph = defaultdict(list) #Adjacency List\n",
    "\n",
    "p = defaultdict(str) #Predecessors\n",
    "\n",
    "def addEdge(graph, u, v):\n",
    "    graph[u].append(v)\n",
    "# graph[v].append(u) if graph is undirected\n",
    "\n",
    "visited = []\n",
    "\n",
    "queue = []\n",
    "\n",
    "def BFS(s):\n",
    "    queue.append(s)\n",
    "while queue:\n",
    "    u = queue.pop(0) #the first vertex from the queue is visited next\n",
    "    visited.append(u) #u is appended in visited list\n",
    "    for v in graph[u]:\n",
    "        if(not(v in visited) and not(v in queue)):\n",
    "            queue.append(v)\n",
    "            p[v] = u\n",
    "\n",
    "# Path Generation\n",
    "def printPath(x,s,p):\n",
    "    stack = []\n",
    "    stack.append(x)\n",
    "    while stack[-1] is not s: #Path Generation\n",
    "        stack.append(p[stack[-1]])\n",
    "    while stack:\n",
    "        print(stack.pop(),end = \"->\")\n",
    "\n",
    "        n = int(input(\"Enter the number of edges\"))\n",
    "\n",
    "    for i in range(n):\n",
    "        u,v = input(\"Enter Edge\").split()\n",
    "        addEdge(graph,u,v)\n",
    "\n",
    "s = input(\"Enter the source vertex: \")\n",
    "\n",
    "print(graph)\n",
    "\n",
    "BFS(s)\n",
    "\n",
    "print(p)\n",
    "\n",
    "x = input(\"Enter the vertex for which you want to generate path: \")\n",
    "printPath(x,s,p)"
   ]
  }
 ],
 "metadata": {
  "interpreter": {
   "hash": "c4bb627c720bb325833297a37a3d07f2918af932b8d8e89a0df48100a492cd0a"
  },
  "kernelspec": {
   "display_name": "Python 3.10.2 64-bit",
   "language": "python",
   "name": "python3"
  },
  "language_info": {
   "codemirror_mode": {
    "name": "ipython",
    "version": 3
   },
   "file_extension": ".py",
   "mimetype": "text/x-python",
   "name": "python",
   "nbconvert_exporter": "python",
   "pygments_lexer": "ipython3",
   "version": "3.10.2"
  },
  "orig_nbformat": 4
 },
 "nbformat": 4,
 "nbformat_minor": 2
}
