{
 "cells": [
  {
   "cell_type": "markdown",
   "metadata": {},
   "source": [
    "# dictionary\n",
    "- dictionary is ordered and unindexed\n",
    "- dictionary is a key:value pair system\n",
    "- the keys are always unique for a dict\n",
    "- the keys are only of immutable type (number, string, tuple)\n",
    "- the valuse can be of any type\n",
    "- represented by { }\n",
    "- dictionary is mutable"
   ]
  },
  {
   "cell_type": "code",
   "execution_count": 1,
   "metadata": {},
   "outputs": [],
   "source": [
    "x = ['Alex','Mason',22,'3929019284',True,False] # unexplain info\n",
    "std_mark_list = ['Ravi',90,'Kavi',30,'Janhvi',50,'Tanvi',20] # unlinked info"
   ]
  },
  {
   "cell_type": "code",
   "execution_count": 6,
   "metadata": {},
   "outputs": [
    {
     "name": "stdout",
     "output_type": "stream",
     "text": [
      "{'firstname': 'Harsh', 'lastname': 'Jaiswal', 'age': '21', 'phone': '8299620520', 'working': True, 'married': False}\n"
     ]
    }
   ],
   "source": [
    "dict_x = {\n",
    "    'firstname' : 'Harsh',\n",
    "    'lastname' : 'Jaiswal',\n",
    "    'age' : '21',\n",
    "    'phone' : '8299620520',\n",
    "    'working' : True,\n",
    "    'married' : False,\n",
    "}\n",
    "print(dict_x)"
   ]
  },
  {
   "cell_type": "code",
   "execution_count": 7,
   "metadata": {},
   "outputs": [
    {
     "data": {
      "text/plain": [
       "False"
      ]
     },
     "execution_count": 7,
     "metadata": {},
     "output_type": "execute_result"
    }
   ],
   "source": [
    "dict_x['married']"
   ]
  },
  {
   "cell_type": "code",
   "execution_count": 3,
   "metadata": {},
   "outputs": [
    {
     "data": {
      "text/plain": [
       "{'Ravi': 90, 'Kavi': 30, 'Janhvi': 50, 'Tanvi': 20}"
      ]
     },
     "execution_count": 3,
     "metadata": {},
     "output_type": "execute_result"
    }
   ],
   "source": [
    "std_marks_dict = {'Ravi':90,'Kavi':30,'Janhvi':50,'Tanvi':20}\n",
    "std_marks_dict"
   ]
  },
  {
   "cell_type": "code",
   "execution_count": 8,
   "metadata": {},
   "outputs": [
    {
     "data": {
      "text/plain": [
       "'Harsh'"
      ]
     },
     "execution_count": 8,
     "metadata": {},
     "output_type": "execute_result"
    }
   ],
   "source": [
    "dict_x['firstname']"
   ]
  },
  {
   "cell_type": "code",
   "execution_count": 9,
   "metadata": {},
   "outputs": [],
   "source": [
    "report = {\n",
    "    'tanya':{\n",
    "        'eng':60,\n",
    "        'math':90,\n",
    "        'sci':90,\n",
    "    },\n",
    "    'saif':{\n",
    "        'eng':80,\n",
    "        'math':96,\n",
    "        'sci':70\n",
    "    },\n",
    "    'bilal':{\n",
    "        'eng':96,\n",
    "        'math':70,\n",
    "        'sci':'absent'\n",
    "    },\n",
    "    'harsh':{\n",
    "        'eng':96,\n",
    "        'math':70,\n",
    "        'sci':75 \n",
    "    },\n",
    "    'mugdha':{\n",
    "        'eng':96,\n",
    "        'math':70,\n",
    "        'sci':87\n",
    "    },\n",
    "    'simran':{\n",
    "        'eng':60,\n",
    "        'math':90,\n",
    "        'sci':90,\n",
    "    },\n",
    "    'prabal':{\n",
    "        'eng':80,\n",
    "        'math':96,\n",
    "        'sci':70\n",
    "    },\n",
    "    'akshat':{\n",
    "        'eng':96,\n",
    "        'math':70,\n",
    "        'sci':'absent'\n",
    "    },\n",
    "    'mishra':{\n",
    "        'eng':96,\n",
    "        'math':70,\n",
    "        'sci':75 \n",
    "    },\n",
    "    'abdullah':{\n",
    "        'eng':96,\n",
    "        'math':70,\n",
    "        'sci':87\n",
    "    },\n",
    "}"
   ]
  },
  {
   "cell_type": "code",
   "execution_count": 10,
   "metadata": {},
   "outputs": [
    {
     "data": {
      "text/plain": [
       "{'tanya': {'eng': 60, 'math': 90, 'sci': 90},\n",
       " 'saif': {'eng': 80, 'math': 96, 'sci': 70},\n",
       " 'bilal': {'eng': 96, 'math': 70, 'sci': 'absent'},\n",
       " 'harsh': {'eng': 96, 'math': 70, 'sci': 75},\n",
       " 'mugdha': {'eng': 96, 'math': 70, 'sci': 87},\n",
       " 'simran': {'eng': 60, 'math': 90, 'sci': 90},\n",
       " 'prabal': {'eng': 80, 'math': 96, 'sci': 70},\n",
       " 'akshat': {'eng': 96, 'math': 70, 'sci': 'absent'},\n",
       " 'mishra': {'eng': 96, 'math': 70, 'sci': 75},\n",
       " 'abdullah': {'eng': 96, 'math': 70, 'sci': 87}}"
      ]
     },
     "execution_count": 10,
     "metadata": {},
     "output_type": "execute_result"
    }
   ],
   "source": [
    "report"
   ]
  },
  {
   "cell_type": "code",
   "execution_count": null,
   "metadata": {},
   "outputs": [],
   "source": []
  }
 ],
 "metadata": {
  "interpreter": {
   "hash": "c4bb627c720bb325833297a37a3d07f2918af932b8d8e89a0df48100a492cd0a"
  },
  "kernelspec": {
   "display_name": "Python 3.10.2 64-bit",
   "language": "python",
   "name": "python3"
  },
  "language_info": {
   "codemirror_mode": {
    "name": "ipython",
    "version": 3
   },
   "file_extension": ".py",
   "mimetype": "text/x-python",
   "name": "python",
   "nbconvert_exporter": "python",
   "pygments_lexer": "ipython3",
   "version": "3.10.2"
  },
  "orig_nbformat": 4
 },
 "nbformat": 4,
 "nbformat_minor": 2
}
