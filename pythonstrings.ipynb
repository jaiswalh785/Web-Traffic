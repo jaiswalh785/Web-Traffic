{
 "cells": [
  {
   "cell_type": "code",
   "execution_count": 1,
   "metadata": {},
   "outputs": [
    {
     "name": "stdout",
     "output_type": "stream",
     "text": [
      "hello world\n"
     ]
    }
   ],
   "source": [
    "string = 'hello world'\n",
    "print(string)"
   ]
  },
  {
   "cell_type": "code",
   "execution_count": 6,
   "metadata": {},
   "outputs": [
    {
     "name": "stdout",
     "output_type": "stream",
     "text": [
      "5\n"
     ]
    }
   ],
   "source": [
    "name = input('enter a name:')\n",
    "print(len(name))"
   ]
  },
  {
   "cell_type": "code",
   "execution_count": 12,
   "metadata": {},
   "outputs": [
    {
     "name": "stdout",
     "output_type": "stream",
     "text": [
      "great\n"
     ]
    }
   ],
   "source": [
    "str = 'Python is great'\n",
    "slice = str[-5:]\n",
    "print(slice)"
   ]
  },
  {
   "cell_type": "code",
   "execution_count": 13,
   "metadata": {},
   "outputs": [
    {
     "data": {
      "text/plain": [
       "['Python', 'is', 'everywhere']"
      ]
     },
     "execution_count": 13,
     "metadata": {},
     "output_type": "execute_result"
    }
   ],
   "source": [
    "a = 'Python is everywhere'\n",
    "a.split()"
   ]
  },
  {
   "cell_type": "code",
   "execution_count": 27,
   "metadata": {},
   "outputs": [
    {
     "data": {
      "text/plain": [
       "'dlrow olleh'"
      ]
     },
     "execution_count": 27,
     "metadata": {},
     "output_type": "execute_result"
    }
   ],
   "source": [
    "d = 'hello world'\n",
    "d[::-1]"
   ]
  },
  {
   "cell_type": "code",
   "execution_count": 20,
   "metadata": {},
   "outputs": [
    {
     "data": {
      "text/plain": [
       "'HOW ARE YOU'"
      ]
     },
     "execution_count": 20,
     "metadata": {},
     "output_type": "execute_result"
    }
   ],
   "source": [
    "b = 'How are you'\n",
    "b.upper()"
   ]
  },
  {
   "cell_type": "code",
   "execution_count": 21,
   "metadata": {},
   "outputs": [
    {
     "data": {
      "text/plain": [
       "'how it is going'"
      ]
     },
     "execution_count": 21,
     "metadata": {},
     "output_type": "execute_result"
    }
   ],
   "source": [
    "c = 'How It Is Going'\n",
    "c.lower()"
   ]
  },
  {
   "cell_type": "code",
   "execution_count": 26,
   "metadata": {},
   "outputs": [
    {
     "data": {
      "text/plain": [
       "'Python is easy to learn'"
      ]
     },
     "execution_count": 26,
     "metadata": {},
     "output_type": "execute_result"
    }
   ],
   "source": [
    "\" \".join(['Python', 'is', 'easy', 'to', 'learn'])\n"
   ]
  },
  {
   "cell_type": "code",
   "execution_count": 4,
   "metadata": {},
   "outputs": [
    {
     "data": {
      "text/plain": [
       "'this is a good string'"
      ]
     },
     "execution_count": 4,
     "metadata": {},
     "output_type": "execute_result"
    }
   ],
   "source": [
    "text = '    this is a good string     '\n",
    "' '.join(text.split())"
   ]
  },
  {
   "cell_type": "code",
   "execution_count": 3,
   "metadata": {},
   "outputs": [
    {
     "data": {
      "text/plain": [
       "'this is a good string'"
      ]
     },
     "execution_count": 3,
     "metadata": {},
     "output_type": "execute_result"
    }
   ],
   "source": [
    "text.strip()"
   ]
  },
  {
   "cell_type": "code",
   "execution_count": 2,
   "metadata": {},
   "outputs": [
    {
     "name": "stdout",
     "output_type": "stream",
     "text": [
      "2500\n"
     ]
    }
   ],
   "source": [
    "units = int(input('Enter Used Electricity units: '))\n",
    "total = 0\n",
    "counter = -1\n",
    "while units>0:\n",
    "    if counter in [0,1]:\n",
    "        total += min(100,units) * 5\n",
    "        units -= 100\n",
    "    if counter > 2:\n",
    "        total += units * 10\n",
    "        units -= 200\n",
    "    counter+=1\n",
    "print(total)"
   ]
  },
  {
   "cell_type": "code",
   "execution_count": 10,
   "metadata": {},
   "outputs": [
    {
     "name": "stdout",
     "output_type": "stream",
     "text": [
      "[[(-1, -1), (2, 0), (2, 1), (2, 4), (1, 2), (2, 4), (2, 5), (1, 5)], [(3, 1), (3, 2), (0, 0), (2, 1), (3, 3), (3, 6), (2, 4), (3, 6)], [(1, 2), (0, 0), (4, 3), (0, 4), (1, 2), (0, 4), (4, 5), (1, 5)], [(4, 2), (1, 2), (2, 4), (1, 2), (1, 3), (1, 6), (2, 4), (1, 6)], [(2, 1), (2, 0), (2, 1), (2, 4), (3, 6), (2, 4), (2, 5), (5, 5)], [(3, 1), (3, 2), (3, 3), (3, 2), (3, 3), (3, 6), (4, 4), (3, 6)], [(4, 1), (4, 2), (4, 3), (4, 2), (4, 5), (4, 4), (4, 5), (5, 5)], [(5, 1), (5, 2), (5, 3), (5, 4), (5, 5), (5, 4), (5, 7), (5, 6)]]\n",
      "[['b', 'b', 'b', 'b', 'b', 'b', 'b', 'g'], ['b', 'b', 'b', 'b', 'b', 'b', 'b', 'b'], ['b', 'b', 'b', 'b', 'b', 'b', 'b', 'g'], ['b', 'b', 'b', 'b', 'b', 'b', 'b', 'b'], ['b', 'b', 'b', 'b', 'b', 'b', 'b', 'g'], ['b', 'b', 'b', 'b', 'b', 'b', 'b', 'b'], ['b', 'b', 'b', 'b', 'b', 'g', 'b', 'g'], ['g', 'b', 'g', 'b', 'g', 'b', 'g', 'g']]\n",
      "[(6, 5), (7, 6), (6, 7), (4, 7), (7, 4), (2, 7), (0, 7), (7, 2), (7, 0), (7, 7)]\n",
      "(0, 0)->(1, 2)->(2, 4)->(3, 6)->(4, 4)->(5, 6)->(7, 7)->"
     ]
    }
   ],
   "source": [
    "p=[[(-1,-1)for i in range (8)]for i in range(8)]\n",
    "color=[['w'for i in range(8)]for i in range(8)]\n",
    "\n",
    "q=[]\n",
    "\n",
    "#Driver code\n",
    "#(0,0) is the source block and (7,7) is the goal block\n",
    "\n",
    "q.append((0,0))\n",
    "color[0][0]='g'\n",
    "\n",
    "while q:\n",
    "    u=q.pop(0)\n",
    "    i=u[0]\n",
    "    j=u[1]\n",
    "    color[i][j]='b'\n",
    "    \n",
    "    if(j+2 <=7 and i+1<=7 and color[i+1][j+2]=='w'):  #2block right 1 block down\n",
    "        p[i+1][j+2]=u\n",
    "        color[i+1][j+2]='g'\n",
    "        q.append((i+1,j+2))\n",
    "        if(j+2==7 and i+1 == 7):\n",
    "            break; \n",
    "            \n",
    "    if(j+2<=7 and i-1>=0 and color[i-1][j+2] =='w'):     #2block right 1 block up\n",
    "        p[i-1][j+2]=u\n",
    "        color[i-1][j+2]='g'\n",
    "        q.append((i-1,j+2))\n",
    "        if(j+2==7 and i-1 == 7):\n",
    "            break; \n",
    "            \n",
    "    if(j-2>=0 and i+1<=7 and color[i+1][j-2] =='w'):     #2block left 1 block down\n",
    "        p[i+1][j-2]=u\n",
    "        color[i+1][j-2]='g'\n",
    "        q.append((i+1,j-2))\n",
    "        if(j-2==7 and i+1 == 7):\n",
    "            break; \n",
    "            \n",
    "    if(j-2>=0 and i-1>=0 and color[i-1][j-2] =='w'):     #2block left 1 block up\n",
    "        p[i-1][j-2]=u\n",
    "        color[i-1][j-2]='g'\n",
    "        q.append((i-1,j-2))\n",
    "        if(j-2==7 and i-1 == 7):\n",
    "            break;\n",
    "\n",
    "    if(i+2<=7 and j+1<=7 and color[i+2][j+1]=='w'):      #2 block down 1 block right\n",
    "        p[i+2][j+1]=u\n",
    "        color[i+2][j+1]='g'\n",
    "        q.append((i+2,j+1))\n",
    "        if(j+1==7 and i+2 == 7):\n",
    "            break; \n",
    "\n",
    "    if(i+2 <=7 and j-1>=0 and color[i+2][j-1]=='w'):      #2 block down 1 block left\n",
    "        p[i+2][j-1]=u\n",
    "        color[i+2][j-1]='g'\n",
    "        q.append((i+2,j-1))\n",
    "        if(j-1==7 and i+2 == 7):\n",
    "            break; \n",
    "\n",
    "    if(i-2>=0 and j+1<=7 and color[i-2][j+1]=='w'):       #2 block up 1 block right\n",
    "        p[i-2][j+1]=u\n",
    "        color[i-2][j+1]='g'\n",
    "        q.append((i-2,j+1))\n",
    "        if(j+1==7 and i-2 == 7):\n",
    "            break;\n",
    "\n",
    "    if(i-2>=0 and j-1>=0 and color[i-2][j-1]=='w'):        #2 block up 1 block left\n",
    "        p[i-2][j-1]=u\n",
    "        color[i-2][j-1]='g'\n",
    "        q.append((i-2,j-1))\n",
    "        if(j-1==7 and i-2 == 7):\n",
    "            break; \n",
    "\n",
    "print(p)\n",
    "print(color)\n",
    "print(q)\n",
    "\n",
    "#path generation\n",
    "stk=[(7,7)]        \n",
    "while stk[-1] !=(0,0):\n",
    "    stk.append(p[stk[-1][0]][stk[-1][1]])\n",
    "    \n",
    "while stk:\n",
    "    print(stk.pop(), end =\"->\")"
   ]
  },
  {
   "cell_type": "code",
   "execution_count": 11,
   "metadata": {},
   "outputs": [
    {
     "name": "stdout",
     "output_type": "stream",
     "text": [
      "Steps: \n",
      "0 0\n",
      "3 0\n",
      "3 5\n",
      "0 5\n",
      "3 2\n",
      "0 2\n"
     ]
    },
    {
     "data": {
      "text/plain": [
       "True"
      ]
     },
     "execution_count": 11,
     "metadata": {},
     "output_type": "execute_result"
    }
   ],
   "source": [
    "from collections import defaultdict\n",
    "  \n",
    "jug1 = int(input(\"enter capacity of jug 1: \"))\n",
    "jug2 = int(input(\"enter capacity of jug 2: \"))\n",
    "aim = int(input(\"enter aim: \"))\n",
    "  \n",
    "  \n",
    "\n",
    "visited = defaultdict(lambda: False)\n",
    "  \n",
    "def waterJugSolver(amt1, amt2): \n",
    " \n",
    "    if (amt1 == aim and amt2 == 0) or (amt2 == aim and amt1 == 0):\n",
    "        print(amt1, amt2)\n",
    "        return True\n",
    "\n",
    "    if visited[(amt1, amt2)] == False:\n",
    "        print(amt1, amt2)\n",
    "      \n",
    "       \n",
    "        visited[(amt1, amt2)] = True\n",
    "      \n",
    "        \n",
    "        return (waterJugSolver(0, amt2) or\n",
    "                waterJugSolver(amt1, 0) or\n",
    "                waterJugSolver(jug1, amt2) or\n",
    "                waterJugSolver(amt1, jug2) or\n",
    "                waterJugSolver(amt1 + min(amt2, (jug1-amt1)),\n",
    "                amt2 - min(amt2, (jug1-amt1))) or\n",
    "                waterJugSolver(amt1 - min(amt1, (jug2-amt2)),\n",
    "                amt2 + min(amt1, (jug2-amt2))))\n",
    "      \n",
    "    else:\n",
    "        return False\n",
    "  \n",
    "print(\"Steps: \")\n",
    "\n",
    "waterJugSolver(0, 0)"
   ]
  },
  {
   "cell_type": "code",
   "execution_count": 13,
   "metadata": {},
   "outputs": [
    {
     "name": "stdout",
     "output_type": "stream",
     "text": [
      "Enter the position on grid from the given possibilities: \n",
      "[(0, 0), (0, 1), (0, 2), (1, 0), (1, 1), (1, 2), (2, 0), (2, 1), (2, 2)]\n",
      "Move chosen by opponent is: \n",
      "(0, 1)\n",
      "Enter the position on grid from the given possibilities: \n",
      "[(0, 2), (1, 0), (1, 1), (1, 2), (2, 0), (2, 1), (2, 2)]\n",
      "Move chosen by opponent is: \n",
      "(1, 2)\n",
      "Enter the position on grid from the given possibilities: \n",
      "[(0, 2), (1, 0), (2, 0), (2, 1), (2, 2)]\n",
      "you Won !!!!\n"
     ]
    }
   ],
   "source": [
    "import random\n",
    "possibility=[(0,0),(0,1),(0,2),(1,0),(1,1),(1,2),(2,0),(2,1),(2,2)]\n",
    "play1=[]\n",
    "play2=[]\n",
    "total=9\n",
    "player=1\n",
    "while total:\n",
    "    if(player==1):\n",
    "        print(\"Enter the position on grid from the given possibilities: \")\n",
    "        print(possibility)\n",
    "        i=int(input())\n",
    "        j=int(input())\n",
    "        move=(i,j)\n",
    "        possibility.remove(move)\n",
    "        play1.insert(0,move)\n",
    "        total-=1\n",
    "        if(play1==[(0,0),(0,1),(0,2)] or play1==[(0,0),(0,2),(0,1)] or play1==[(0,1),(0,0),(0,2)] or play1==[(0,2),(0,1),(0,0)] or play1==[(0,2),(0,0),(0,1)] or play1==[(0,1),(0,2),(0,0)]):\n",
    "           print(\"you Won !!!!\")\n",
    "           break\n",
    "        elif(play1==[(1,0),(1,1),(1,2)] or play1==[(1,0),(1,2),(1,1)] or play1==[(1,1),(1,0),(1,2)] or play1==[(1,1),(1,2),(1,0)] or play1==[(1,2),(1,0),(1,1)] or play1==[(1,2),(1,1),(1,0)]):\n",
    "           print(\"you Won !!!!\")\n",
    "           break\n",
    "        elif(play1==[(2,0),(2,1),(2,2)] or play1==[(2,0),(2,2),(2,1)] or play1==[(2,1),(2,0),(2,2)] or play1==[(2,1),(2,2),(2,0)] or play1==[(2,2),(2,0),(2,1)] or play1==[(2,2),(2,1),(2,0)]):\n",
    "           print(\"you Won !!!!\")\n",
    "           break\n",
    "        elif(play1==[(0,0),(1,0),(2,0)] or play1==[(0,0),(2,0),(1,0)] or play1==[(1,0),(0,0),(2,0)] or play1==[(1,0),(2,0),(0,0)] or play1==[(2,0),(0,0),(1,0)] or play1==[(2,0),(1,0),(0,0)]):\n",
    "           print(\"you Won !!!!\")\n",
    "           break\n",
    "        elif(play1==[(0,1),(1,1),(2,1)] or play1==[(0,1),(2,1),(1,1)] or play1==[(1,1),(0,1),(2,1)] or play1==[(1,1),(2,1),(0,1)] or play1==[(2,1),(0,1),(1,1)] or play1==[(2,1),(1,1),(0,1)]):\n",
    "           print(\"you Won !!!!\")\n",
    "           break\n",
    "        elif(play1==[(0,2),(1,2),(2,2)] or play1==[(0,2),(2,2),(1,2)] or play1==[(1,2),(0,2),(2,2)] or play1==[(1,2),(2,2),(0,2)] or play1==[(2,2),(0,2),(1,2)] or play1==[(2,2),(1,2),(0,2)]):\n",
    "           print(\"you Won !!!!\")\n",
    "           break\n",
    "        elif(play1==[(0,0),(1,1),(2,2)] or play1==[(0,0),(2,2),(1,1)] or play1==[(1,1),(0,0),(2,2)] or play1==[(1,1),(2,2),(0,0)] or play1==[(2,2),(0,0),(1,1)] or play1==[(2,2),(1,1),(0,0)]):\n",
    "           print(\"you Won !!!!\")\n",
    "           break\n",
    "        elif(play1==[(0,2),(1,1),(2,0)] or play1==[(0,2),(2,0),(1,1)] or play1==[(1,1),(0,2),(2,0)] or play1==[(1,1),(2,0),(0,2)] or play1==[(2,0),(0,2),(1,1)] or play1==[(2,0),(1,1),(0,2)]):\n",
    "           print(\"you Won !!!!\")\n",
    "           break\n",
    "        player=2\n",
    "    elif(player==2):\n",
    "        move=(random.choice(possibility))\n",
    "        print(\"Move chosen by opponent is: \")\n",
    "        print(move)\n",
    "        possibility.remove(move)\n",
    "        play2.insert(0,move)\n",
    "        total-=1\n",
    "        if(play2==[(0,0),(0,1),(0,2)] or play2==[(0,0),(0,2),(0,1)] or play2==[(0,1),(0,0),(0,2)] or play2==[(0,2),(0,1),(0,0)] or play2==[(0,2),(0,0),(0,1)] or play2==[(0,1),(0,2),(0,0)]):\n",
    "           print(\"you lost !!!!\")\n",
    "           break\n",
    "        elif(play2==[(1,0),(1,1),(1,2)] or play2==[(1,0),(1,2),(1,1)] or play2==[(1,1),(1,0),(1,2)] or play2==[(1,1),(1,2),(1,0)] or play2==[(1,2),(1,0),(1,1)] or play2==[(1,2),(1,1),(1,0)]):\n",
    "           print(\"you lost !!!!\")\n",
    "           break\n",
    "        elif(play2==[(2,0),(2,1),(2,2)] or play2==[(2,0),(2,2),(2,1)] or play2==[(2,1),(2,0),(2,2)] or play2==[(2,1),(2,2),(2,0)] or play2==[(2,2),(2,0),(2,1)] or play2==[(2,2),(2,1),(2,0)]):\n",
    "           print(\"you lost !!!!\")\n",
    "           break\n",
    "        elif(play2==[(0,0),(1,0),(2,0)] or play2==[(0,0),(2,0),(1,0)] or play2==[(1,0),(0,0),(2,0)] or play2==[(1,0),(2,0),(0,0)] or play2==[(2,0),(0,0),(1,0)] or play2==[(2,0),(1,0),(0,0)]):\n",
    "           print(\"you lost !!!!\")\n",
    "           break\n",
    "        elif(play2==[(0,1),(1,1),(2,1)] or play2==[(0,1),(2,1),(1,1)] or play2==[(1,1),(0,1),(2,1)] or play2==[(1,1),(2,1),(0,1)] or play2==[(2,1),(0,1),(1,1)] or play2==[(2,1),(1,1),(0,1)]):\n",
    "           print(\"you lost !!!!\")\n",
    "           break\n",
    "        elif(play2==[(0,2),(1,2),(2,2)] or play2==[(0,2),(2,2),(1,2)] or play2==[(1,2),(0,2),(2,2)] or play1==[(1,2),(2,2),(0,2)] or play2==[(2,2),(0,2),(1,2)] or play2==[(2,2),(1,2),(0,2)]):\n",
    "           print(\"you lost !!!!\")\n",
    "           break\n",
    "        elif(play2==[(0,0),(1,1),(2,2)] or play2==[(0,0),(2,2),(1,1)] or play2==[(1,1),(0,0),(2,2)] or play1==[(1,1),(2,2),(0,0)] or play2==[(2,2),(0,0),(1,1)] or play2==[(2,2),(1,1),(0,0)]):\n",
    "           print(\"you lost !!!!\")\n",
    "           break\n",
    "        elif(play2==[(0,2),(1,1),(2,0)] or play2==[(0,2),(2,0),(1,1)] or play2==[(1,1),(0,2),(2,0)] or play1==[(1,1),(2,0),(0,2)] or play2==[(2,0),(0,2),(1,1)] or play2==[(2,0),(1,1),(0,2)]):\n",
    "           print(\"you lost !!!!\")\n",
    "           break\n",
    "        player=1\n",
    "    if(total==0):\n",
    "        print(\"Match Draw !!!\")"
   ]
  },
  {
   "cell_type": "code",
   "execution_count": null,
   "metadata": {},
   "outputs": [],
   "source": []
  }
 ],
 "metadata": {
  "interpreter": {
   "hash": "c4bb627c720bb325833297a37a3d07f2918af932b8d8e89a0df48100a492cd0a"
  },
  "kernelspec": {
   "display_name": "Python 3.10.2 64-bit",
   "language": "python",
   "name": "python3"
  },
  "language_info": {
   "codemirror_mode": {
    "name": "ipython",
    "version": 3
   },
   "file_extension": ".py",
   "mimetype": "text/x-python",
   "name": "python",
   "nbconvert_exporter": "python",
   "pygments_lexer": "ipython3",
   "version": "3.10.2"
  },
  "orig_nbformat": 4
 },
 "nbformat": 4,
 "nbformat_minor": 2
}
