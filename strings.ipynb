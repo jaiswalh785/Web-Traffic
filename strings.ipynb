{
 "cells": [
  {
   "cell_type": "code",
   "execution_count": 1,
   "metadata": {},
   "outputs": [
    {
     "name": "stdout",
     "output_type": "stream",
     "text": [
      "hello\n"
     ]
    }
   ],
   "source": [
    "my_string = 'hello'\n",
    "print(my_string)"
   ]
  },
  {
   "cell_type": "code",
   "execution_count": 2,
   "metadata": {},
   "outputs": [
    {
     "name": "stdout",
     "output_type": "stream",
     "text": [
      "hello\n"
     ]
    }
   ],
   "source": [
    "my_string = \"hello\"\n",
    "print(my_string)"
   ]
  },
  {
   "cell_type": "code",
   "execution_count": 3,
   "metadata": {},
   "outputs": [
    {
     "name": "stdout",
     "output_type": "stream",
     "text": [
      "hello\n"
     ]
    }
   ],
   "source": [
    "my_string = '''hello'''\n",
    "print(my_string)"
   ]
  },
  {
   "cell_type": "code",
   "execution_count": 4,
   "metadata": {},
   "outputs": [],
   "source": [
    "name = \"who are you\""
   ]
  },
  {
   "cell_type": "code",
   "execution_count": 5,
   "metadata": {},
   "outputs": [
    {
     "name": "stdout",
     "output_type": "stream",
     "text": [
      "digipodium\n"
     ]
    }
   ],
   "source": [
    "#accessing string characters in python\n",
    "str = 'digipodium'\n",
    "print(str)"
   ]
  },
  {
   "cell_type": "code",
   "execution_count": 6,
   "metadata": {},
   "outputs": [
    {
     "name": "stdout",
     "output_type": "stream",
     "text": [
      "str[0] =  d\n"
     ]
    }
   ],
   "source": [
    "#first letter\n",
    "print('str[0] = ', str[0])"
   ]
  },
  {
   "cell_type": "code",
   "execution_count": 7,
   "metadata": {},
   "outputs": [
    {
     "name": "stdout",
     "output_type": "stream",
     "text": [
      "str[1] =  i\n"
     ]
    }
   ],
   "source": [
    "#second letter\n",
    "print('str[1] = ', str[1])"
   ]
  },
  {
   "cell_type": "code",
   "execution_count": 8,
   "metadata": {},
   "outputs": [
    {
     "name": "stdout",
     "output_type": "stream",
     "text": [
      "str[1] =  m\n"
     ]
    }
   ],
   "source": [
    "#last letter\n",
    "print('str[1] = ', str[-1])"
   ]
  },
  {
   "cell_type": "code",
   "execution_count": 9,
   "metadata": {},
   "outputs": [],
   "source": [
    "name = \"william shakespeare\""
   ]
  },
  {
   "cell_type": "code",
   "execution_count": 10,
   "metadata": {},
   "outputs": [
    {
     "data": {
      "text/plain": [
       "'are'"
      ]
     },
     "execution_count": 10,
     "metadata": {},
     "output_type": "execute_result"
    }
   ],
   "source": [
    "name[-3]+name[-2]+name[-1]"
   ]
  },
  {
   "cell_type": "code",
   "execution_count": 11,
   "metadata": {},
   "outputs": [
    {
     "data": {
      "text/plain": [
       "'will'"
      ]
     },
     "execution_count": 11,
     "metadata": {},
     "output_type": "execute_result"
    }
   ],
   "source": [
    "name[0]+name[1]+name[2]+name[3]"
   ]
  },
  {
   "cell_type": "code",
   "execution_count": 12,
   "metadata": {},
   "outputs": [
    {
     "name": "stdout",
     "output_type": "stream",
     "text": [
      "pod\n"
     ]
    }
   ],
   "source": [
    "#getting a slice\n",
    "s = 'digipodium'\n",
    "slice = s[4:7]\n",
    "print(slice)"
   ]
  },
  {
   "cell_type": "code",
   "execution_count": 13,
   "metadata": {},
   "outputs": [
    {
     "data": {
      "text/plain": [
       "'shake'"
      ]
     },
     "execution_count": 13,
     "metadata": {},
     "output_type": "execute_result"
    }
   ],
   "source": [
    "name[8:13]"
   ]
  },
  {
   "cell_type": "code",
   "execution_count": 14,
   "metadata": {},
   "outputs": [
    {
     "data": {
      "text/plain": [
       "'pear'"
      ]
     },
     "execution_count": 14,
     "metadata": {},
     "output_type": "execute_result"
    }
   ],
   "source": [
    "name[-5:-1]"
   ]
  },
  {
   "cell_type": "code",
   "execution_count": 1,
   "metadata": {},
   "outputs": [
    {
     "name": "stdout",
     "output_type": "stream",
     "text": [
      "digi\n",
      "digi\n"
     ]
    }
   ],
   "source": [
    "s = 'digipodium'\n",
    "slice1 = s[0:4]\n",
    "slice2 = s[:4]\n",
    "print(slice1)\n",
    "print(slice2)"
   ]
  },
  {
   "cell_type": "code",
   "execution_count": 2,
   "metadata": {},
   "outputs": [
    {
     "ename": "TypeError",
     "evalue": "object of type 'int' has no len()",
     "output_type": "error",
     "traceback": [
      "\u001b[1;31m---------------------------------------------------------------------------\u001b[0m",
      "\u001b[1;31mTypeError\u001b[0m                                 Traceback (most recent call last)",
      "\u001b[1;32mc:\\vscode\\PYTHON\\strings.ipynb Cell 16'\u001b[0m in \u001b[0;36m<module>\u001b[1;34m\u001b[0m\n\u001b[0;32m      <a href='vscode-notebook-cell:/c%3A/vscode/PYTHON/strings.ipynb#ch0000015?line=0'>1</a>\u001b[0m d \u001b[39m=\u001b[39m \u001b[39m'\u001b[39m\u001b[39mdigipodium\u001b[39m\u001b[39m'\u001b[39m\n\u001b[1;32m----> <a href='vscode-notebook-cell:/c%3A/vscode/PYTHON/strings.ipynb#ch0000015?line=1'>2</a>\u001b[0m slice1 \u001b[39m=\u001b[39m d[\u001b[39m4\u001b[39m:\u001b[39mint\u001b[39m(\u001b[39mlen\u001b[39;49m(\u001b[39m5\u001b[39;49m))]\n\u001b[0;32m      <a href='vscode-notebook-cell:/c%3A/vscode/PYTHON/strings.ipynb#ch0000015?line=2'>3</a>\u001b[0m slice2 \u001b[39m=\u001b[39m d[\u001b[39m-\u001b[39m\u001b[39m4\u001b[39m:]\n\u001b[0;32m      <a href='vscode-notebook-cell:/c%3A/vscode/PYTHON/strings.ipynb#ch0000015?line=3'>4</a>\u001b[0m \u001b[39mprint\u001b[39m(slice1)\n",
      "\u001b[1;31mTypeError\u001b[0m: object of type 'int' has no len()"
     ]
    }
   ],
   "source": [
    "d = 'digipodium'\n",
    "slice1 = d[4:int(len(5))]\n",
    "slice2 = d[-4:]\n",
    "print(slice1)\n",
    "print(slice2)"
   ]
  },
  {
   "cell_type": "code",
   "execution_count": 17,
   "metadata": {},
   "outputs": [
    {
     "name": "stdout",
     "output_type": "stream",
     "text": [
      "A\n"
     ]
    }
   ],
   "source": [
    "x = chr(65)\n",
    "print(x)"
   ]
  },
  {
   "cell_type": "code",
   "execution_count": 18,
   "metadata": {},
   "outputs": [
    {
     "name": "stdout",
     "output_type": "stream",
     "text": [
      "ऽ\n"
     ]
    }
   ],
   "source": [
    "x = chr(2365)\n",
    "print(x)"
   ]
  },
  {
   "cell_type": "code",
   "execution_count": 19,
   "metadata": {},
   "outputs": [
    {
     "name": "stdout",
     "output_type": "stream",
     "text": [
      "ऽ\n"
     ]
    }
   ],
   "source": [
    "x = chr(2365)\n",
    "print(x)"
   ]
  },
  {
   "cell_type": "code",
   "execution_count": null,
   "metadata": {},
   "outputs": [],
   "source": [
    "for i in range(10000):\n",
    "  print(f'{i} => {chr(i)}',end='\\t')\n",
    "  if i % 8 == 0:\n",
    "    print()"
   ]
  },
  {
   "cell_type": "code",
   "execution_count": 21,
   "metadata": {},
   "outputs": [
    {
     "name": "stdout",
     "output_type": "stream",
     "text": [
      "65\n"
     ]
    }
   ],
   "source": [
    "y = ord('A')\n",
    "print(y)"
   ]
  },
  {
   "cell_type": "code",
   "execution_count": 22,
   "metadata": {},
   "outputs": [
    {
     "name": "stdout",
     "output_type": "stream",
     "text": [
      "123\n"
     ]
    }
   ],
   "source": [
    "y = ord('{')\n",
    "print(y)"
   ]
  },
  {
   "cell_type": "code",
   "execution_count": 23,
   "metadata": {},
   "outputs": [
    {
     "name": "stdout",
     "output_type": "stream",
     "text": [
      "97\n"
     ]
    }
   ],
   "source": [
    "y = ord('a')\n",
    "print(y)"
   ]
  },
  {
   "cell_type": "code",
   "execution_count": 24,
   "metadata": {},
   "outputs": [
    {
     "name": "stdout",
     "output_type": "stream",
     "text": [
      "7\n",
      "5\n",
      "4\n"
     ]
    }
   ],
   "source": [
    "print(len(\"amazing\"))\n",
    "print(len(\"world\"))\n",
    "size = len(\"hope\")\n",
    "print(size)"
   ]
  },
  {
   "cell_type": "code",
   "execution_count": 25,
   "metadata": {},
   "outputs": [
    {
     "name": "stdout",
     "output_type": "stream",
     "text": [
      " * \n",
      " *  * \n",
      " *  *  * \n",
      " *  *  *  * \n",
      " *  *  *  *  * \n"
     ]
    }
   ],
   "source": [
    "for i in range(1,6):\n",
    "  print(i * ' * ')"
   ]
  },
  {
   "cell_type": "code",
   "execution_count": 26,
   "metadata": {},
   "outputs": [
    {
     "name": "stdout",
     "output_type": "stream",
     "text": [
      " *  *  *  *  *  * \n",
      " *  *  *  *  * \n",
      " *  *  *  * \n",
      " *  *  * \n",
      " *  * \n",
      " * \n"
     ]
    }
   ],
   "source": [
    "for i in range(6,0,-1):\n",
    "  print(i * ' * ')"
   ]
  },
  {
   "cell_type": "code",
   "execution_count": 27,
   "metadata": {},
   "outputs": [
    {
     "name": "stdout",
     "output_type": "stream",
     "text": [
      "             L \n",
      "          L  L \n",
      "       L  L  L \n",
      "    L  L  L  L \n",
      " L  L  L  L  L \n"
     ]
    }
   ],
   "source": [
    "#right aligment\n",
    "for i in range(1,6):\n",
    "  print((i * ' L ').rjust(15))"
   ]
  },
  {
   "cell_type": "code",
   "execution_count": 28,
   "metadata": {},
   "outputs": [
    {
     "name": "stdout",
     "output_type": "stream",
     "text": [
      " L                                  \n",
      " L  L                               \n",
      " L  L  L                            \n",
      " L  L  L  L                         \n",
      " L  L  L  L  L                      \n",
      " L  L  L  L  L  L                   \n",
      " L  L  L  L  L  L  L                \n",
      " L  L  L  L  L  L  L  L             \n"
     ]
    }
   ],
   "source": [
    "#right aligment\n",
    "for i in range(1,9):\n",
    "  print((i * ' L ').ljust(36))"
   ]
  },
  {
   "cell_type": "code",
   "execution_count": 29,
   "metadata": {},
   "outputs": [
    {
     "name": "stdout",
     "output_type": "stream",
     "text": [
      "                   T                    \n",
      "                T  T  T                 \n",
      "             T  T  T  T  T              \n",
      "          T  T  T  T  T  T  T           \n",
      "       T  T  T  T  T  T  T  T  T        \n",
      "    T  T  T  T  T  T  T  T  T  T  T     \n",
      " T  T  T  T  T  T  T  T  T  T  T  T  T  \n"
     ]
    }
   ],
   "source": [
    "for i in range(1,15,2):\n",
    "  print((i * ' T ').center(40))"
   ]
  },
  {
   "cell_type": "markdown",
   "metadata": {},
   "source": [
    "# String function\n",
    "- formating\n",
    "- validation\n",
    "- utility"
   ]
  },
  {
   "cell_type": "code",
   "execution_count": 30,
   "metadata": {},
   "outputs": [],
   "source": [
    "x = 29032\n",
    "a = 'laptop'\n",
    "c = 'cosumener id'"
   ]
  },
  {
   "cell_type": "code",
   "execution_count": 31,
   "metadata": {},
   "outputs": [
    {
     "name": "stdout",
     "output_type": "stream",
     "text": [
      "the 29032 was purchase via laptop = cosumener id\n"
     ]
    }
   ],
   "source": [
    "print('the {} was purchase via {} = {}'.format(x,a,c) )"
   ]
  },
  {
   "cell_type": "code",
   "execution_count": 32,
   "metadata": {},
   "outputs": [
    {
     "name": "stdout",
     "output_type": "stream",
     "text": [
      "the laptop was purchased via cosumener id = 29032\n"
     ]
    }
   ],
   "source": [
    "print(f'the {a} was purchased via {c} = {x}')"
   ]
  },
  {
   "cell_type": "code",
   "execution_count": 33,
   "metadata": {},
   "outputs": [],
   "source": [
    "quote = \"life before death,hope before despair\""
   ]
  },
  {
   "cell_type": "code",
   "execution_count": 34,
   "metadata": {},
   "outputs": [
    {
     "data": {
      "text/plain": [
       "'LIFE BEFORE DEATH,HOPE BEFORE DESPAIR'"
      ]
     },
     "execution_count": 34,
     "metadata": {},
     "output_type": "execute_result"
    }
   ],
   "source": [
    "quote.upper()"
   ]
  },
  {
   "cell_type": "code",
   "execution_count": 35,
   "metadata": {},
   "outputs": [],
   "source": [
    "q = quote.upper()"
   ]
  },
  {
   "cell_type": "code",
   "execution_count": 36,
   "metadata": {},
   "outputs": [
    {
     "data": {
      "text/plain": [
       "'life before death,hope before despair'"
      ]
     },
     "execution_count": 36,
     "metadata": {},
     "output_type": "execute_result"
    }
   ],
   "source": [
    "quote.lower()"
   ]
  },
  {
   "cell_type": "code",
   "execution_count": 37,
   "metadata": {},
   "outputs": [
    {
     "data": {
      "text/plain": [
       "'life before death,hope before despair'"
      ]
     },
     "execution_count": 37,
     "metadata": {},
     "output_type": "execute_result"
    }
   ],
   "source": [
    "quote.casefold()"
   ]
  },
  {
   "cell_type": "code",
   "execution_count": 38,
   "metadata": {},
   "outputs": [
    {
     "data": {
      "text/plain": [
       "'Life Before Death,Hope Before Despair'"
      ]
     },
     "execution_count": 38,
     "metadata": {},
     "output_type": "execute_result"
    }
   ],
   "source": [
    "quote.title()"
   ]
  },
  {
   "cell_type": "code",
   "execution_count": 39,
   "metadata": {},
   "outputs": [
    {
     "data": {
      "text/plain": [
       "'Life before death,hope before despair'"
      ]
     },
     "execution_count": 39,
     "metadata": {},
     "output_type": "execute_result"
    }
   ],
   "source": [
    "quote.capitalize()"
   ]
  },
  {
   "cell_type": "code",
   "execution_count": 40,
   "metadata": {},
   "outputs": [
    {
     "data": {
      "text/plain": [
       "'LIFE BEFORE DEATH,HOPE BEFORE DESPAIR'"
      ]
     },
     "execution_count": 40,
     "metadata": {},
     "output_type": "execute_result"
    }
   ],
   "source": [
    "quote.swapcase()"
   ]
  },
  {
   "cell_type": "code",
   "execution_count": 41,
   "metadata": {},
   "outputs": [
    {
     "data": {
      "text/plain": [
       "'laptop'"
      ]
     },
     "execution_count": 41,
     "metadata": {},
     "output_type": "execute_result"
    }
   ],
   "source": [
    "a"
   ]
  },
  {
   "cell_type": "code",
   "execution_count": 42,
   "metadata": {},
   "outputs": [
    {
     "data": {
      "text/plain": [
       "'laptop                                            '"
      ]
     },
     "execution_count": 42,
     "metadata": {},
     "output_type": "execute_result"
    }
   ],
   "source": [
    "a.ljust(50)"
   ]
  },
  {
   "cell_type": "code",
   "execution_count": 43,
   "metadata": {},
   "outputs": [
    {
     "data": {
      "text/plain": [
       "'                                            laptop'"
      ]
     },
     "execution_count": 43,
     "metadata": {},
     "output_type": "execute_result"
    }
   ],
   "source": [
    "a.rjust(50)"
   ]
  },
  {
   "cell_type": "code",
   "execution_count": 44,
   "metadata": {},
   "outputs": [
    {
     "data": {
      "text/plain": [
       "'                      laptop                      '"
      ]
     },
     "execution_count": 44,
     "metadata": {},
     "output_type": "execute_result"
    }
   ],
   "source": [
    "a.center(50)"
   ]
  },
  {
   "cell_type": "code",
   "execution_count": 45,
   "metadata": {},
   "outputs": [
    {
     "name": "stdout",
     "output_type": "stream",
     "text": [
      "5 9765625\n",
      "6 60466176\n",
      "7 282475249\n",
      "8 1073741824\n",
      "9 3486784401\n",
      "10 10000000000\n",
      "11 25937424601\n",
      "12 61917364224\n",
      "13 137858491849\n",
      "14 289254654976\n"
     ]
    }
   ],
   "source": [
    "for i in range(5,15):\n",
    "  print(i , i ** 10 )"
   ]
  },
  {
   "cell_type": "code",
   "execution_count": 50,
   "metadata": {},
   "outputs": [
    {
     "ename": "TypeError",
     "evalue": "'str' object is not callable",
     "output_type": "error",
     "traceback": [
      "\u001b[1;31m---------------------------------------------------------------------------\u001b[0m",
      "\u001b[1;31mTypeError\u001b[0m                                 Traceback (most recent call last)",
      "\u001b[1;32mc:\\vscode\\PYTHON\\strings.ipynb Cell 47'\u001b[0m in \u001b[0;36m<module>\u001b[1;34m\u001b[0m\n\u001b[0;32m      <a href='vscode-notebook-cell:/c%3A/vscode/PYTHON/strings.ipynb#ch0000049?line=0'>1</a>\u001b[0m \u001b[39mfor\u001b[39;00m i \u001b[39min\u001b[39;00m \u001b[39mrange\u001b[39m(\u001b[39m5\u001b[39m,\u001b[39m15\u001b[39m):\n\u001b[1;32m----> <a href='vscode-notebook-cell:/c%3A/vscode/PYTHON/strings.ipynb#ch0000049?line=1'>2</a>\u001b[0m   \u001b[39mprint\u001b[39m(\u001b[39mstr\u001b[39;49m(i)\u001b[39m.\u001b[39mljust(\u001b[39m5\u001b[39m), \u001b[39mstr\u001b[39m(i \u001b[39m*\u001b[39m\u001b[39m*\u001b[39m \u001b[39m10\u001b[39m)\u001b[39m.\u001b[39mljust(\u001b[39m15\u001b[39m) )\n",
      "\u001b[1;31mTypeError\u001b[0m: 'str' object is not callable"
     ]
    }
   ],
   "source": [
    "for i in range(5,15):\n",
    "  print(str(i).ljust(5), str(i ** 10).ljust(15) )"
   ]
  },
  {
   "cell_type": "code",
   "execution_count": 52,
   "metadata": {},
   "outputs": [
    {
     "data": {
      "text/plain": [
       "True"
      ]
     },
     "execution_count": 52,
     "metadata": {},
     "output_type": "execute_result"
    }
   ],
   "source": [
    "#validation\n",
    "x = 'word'\n",
    "x.isalpha()"
   ]
  },
  {
   "cell_type": "code",
   "execution_count": 53,
   "metadata": {},
   "outputs": [
    {
     "name": "stdout",
     "output_type": "stream",
     "text": [
      "life before death,hope before despair\n"
     ]
    },
    {
     "data": {
      "text/plain": [
       "False"
      ]
     },
     "execution_count": 53,
     "metadata": {},
     "output_type": "execute_result"
    }
   ],
   "source": [
    "print(quote)\n",
    "quote.isalpha()"
   ]
  },
  {
   "cell_type": "markdown",
   "metadata": {},
   "source": [
    "# 14 feb"
   ]
  },
  {
   "cell_type": "code",
   "execution_count": 23,
   "metadata": {},
   "outputs": [],
   "source": [
    "message = 'this is a place where we have written a message. this is a place where we more messages'"
   ]
  },
  {
   "cell_type": "code",
   "execution_count": 2,
   "metadata": {},
   "outputs": [
    {
     "data": {
      "text/plain": [
       "8"
      ]
     },
     "execution_count": 2,
     "metadata": {},
     "output_type": "execute_result"
    }
   ],
   "source": [
    "message.count('a')"
   ]
  },
  {
   "cell_type": "code",
   "execution_count": 3,
   "metadata": {},
   "outputs": [
    {
     "data": {
      "text/plain": [
       "2"
      ]
     },
     "execution_count": 3,
     "metadata": {},
     "output_type": "execute_result"
    }
   ],
   "source": [
    "message.count('place')"
   ]
  },
  {
   "cell_type": "code",
   "execution_count": 4,
   "metadata": {},
   "outputs": [
    {
     "data": {
      "text/plain": [
       "0"
      ]
     },
     "execution_count": 4,
     "metadata": {},
     "output_type": "execute_result"
    }
   ],
   "source": [
    "message.count('plant')"
   ]
  },
  {
   "cell_type": "markdown",
   "metadata": {},
   "source": [
    "# alphabet counter"
   ]
  },
  {
   "cell_type": "code",
   "execution_count": 5,
   "metadata": {},
   "outputs": [
    {
     "name": "stdout",
     "output_type": "stream",
     "text": [
      "a: 8\n",
      "b: 0\n",
      "c: 2\n",
      "d: 0\n",
      "e: 15\n",
      "f: 0\n",
      "g: 2\n",
      "h: 5\n",
      "i: 5\n",
      "j: 0\n",
      "k: 0\n",
      "l: 2\n",
      "m: 3\n",
      "n: 1\n",
      "o: 1\n",
      "p: 2\n",
      "q: 0\n",
      "r: 4\n",
      "s: 9\n",
      "t: 4\n",
      "u: 0\n",
      "v: 1\n",
      "w: 5\n",
      "z: 0\n"
     ]
    }
   ],
   "source": [
    "for char in 'abcdefghijklmnopqrstuvwz':\n",
    "    print(f'{char}: {message.count(char)}')"
   ]
  },
  {
   "cell_type": "code",
   "execution_count": 8,
   "metadata": {},
   "outputs": [
    {
     "name": "stdout",
     "output_type": "stream",
     "text": [
      "a : 8\n",
      "c : 2\n",
      "e : 15\n",
      "g : 2\n",
      "h : 5\n",
      "i : 5\n",
      "l : 2\n",
      "m : 3\n",
      "n : 1\n",
      "o : 1\n",
      "p : 2\n",
      "r : 4\n",
      "s : 9\n",
      "t : 4\n",
      "v : 1\n",
      "w : 5\n"
     ]
    }
   ],
   "source": [
    "for char in 'abcdefghijklmnopqrstuvwz':\n",
    "    count = message.count(char)\n",
    "    if count > 0:\n",
    "         print(f\"{char} : {count}\")\n",
    "   "
   ]
  },
  {
   "cell_type": "code",
   "execution_count": 9,
   "metadata": {},
   "outputs": [
    {
     "data": {
      "text/plain": [
       "['this',\n",
       " 'is',\n",
       " 'a',\n",
       " 'place,where',\n",
       " 'we',\n",
       " 'have',\n",
       " 'written',\n",
       " 'a',\n",
       " 'message.this',\n",
       " 'is',\n",
       " 'a',\n",
       " 'place',\n",
       " 'where',\n",
       " 'we',\n",
       " 'more',\n",
       " 'messages']"
      ]
     },
     "execution_count": 9,
     "metadata": {},
     "output_type": "execute_result"
    }
   ],
   "source": [
    "message.split()"
   ]
  },
  {
   "cell_type": "code",
   "execution_count": 15,
   "metadata": {},
   "outputs": [
    {
     "data": {
      "text/plain": [
       "18"
      ]
     },
     "execution_count": 15,
     "metadata": {},
     "output_type": "execute_result"
    }
   ],
   "source": [
    "len(message.split())"
   ]
  },
  {
   "cell_type": "markdown",
   "metadata": {},
   "source": [
    "# word counter"
   ]
  },
  {
   "cell_type": "code",
   "execution_count": 24,
   "metadata": {},
   "outputs": [
    {
     "name": "stdout",
     "output_type": "stream",
     "text": [
      "{'messages', 'written', 'message.', 'more', 'place', 'a', 'where', 'we', 'have', 'this', 'is'}\n"
     ]
    }
   ],
   "source": [
    "unique_words = set(message.split()) # set is used to get only unique values\n",
    "print(unique_words)"
   ]
  },
  {
   "cell_type": "code",
   "execution_count": 20,
   "metadata": {},
   "outputs": [
    {
     "data": {
      "text/plain": [
       "['this', 'is', 'aparta']"
      ]
     },
     "execution_count": 20,
     "metadata": {},
     "output_type": "execute_result"
    }
   ],
   "source": [
    "'this-is-aparta'.split('-')"
   ]
  },
  {
   "cell_type": "code",
   "execution_count": 21,
   "metadata": {},
   "outputs": [
    {
     "name": "stdout",
     "output_type": "stream",
     "text": [
      "messages -> 1\n",
      "written -> 1\n",
      "more -> 1\n",
      "message -> 1\n",
      "place -> 2\n",
      "a -> 3\n",
      "where -> 2\n",
      "we -> 2\n",
      "have -> 1\n",
      "this -> 2\n",
      ". -> 1\n",
      "is -> 2\n"
     ]
    }
   ],
   "source": [
    "for word in unique_words:\n",
    "    word_list = message.split()\n",
    "    wc = word_list.count(word)\n",
    "    print(f'{word} -> {wc}')"
   ]
  },
  {
   "cell_type": "code",
   "execution_count": 26,
   "metadata": {},
   "outputs": [],
   "source": [
    "q = 'the only step a person can take is, the nest step'"
   ]
  },
  {
   "cell_type": "code",
   "execution_count": 30,
   "metadata": {},
   "outputs": [
    {
     "data": {
      "text/plain": [
       "-1"
      ]
     },
     "execution_count": 30,
     "metadata": {},
     "output_type": "execute_result"
    }
   ],
   "source": [
    "q.find('Person')"
   ]
  },
  {
   "cell_type": "code",
   "execution_count": 27,
   "metadata": {},
   "outputs": [
    {
     "data": {
      "text/plain": [
       "16"
      ]
     },
     "execution_count": 27,
     "metadata": {},
     "output_type": "execute_result"
    }
   ],
   "source": [
    "q.find('person')"
   ]
  },
  {
   "cell_type": "code",
   "execution_count": 28,
   "metadata": {},
   "outputs": [
    {
     "data": {
      "text/plain": [
       "4"
      ]
     },
     "execution_count": 28,
     "metadata": {},
     "output_type": "execute_result"
    }
   ],
   "source": [
    "q.find('only')"
   ]
  },
  {
   "cell_type": "code",
   "execution_count": 31,
   "metadata": {},
   "outputs": [
    {
     "data": {
      "text/plain": [
       "45"
      ]
     },
     "execution_count": 31,
     "metadata": {},
     "output_type": "execute_result"
    }
   ],
   "source": [
    "q.rfind('step')"
   ]
  },
  {
   "cell_type": "markdown",
   "metadata": {},
   "source": [
    "#### program to check if the data provide by the user is numeric or not ,if its numeric, convert it to int\n",
    "#### else check if it contain any number and extract that number"
   ]
  },
  {
   "cell_type": "code",
   "execution_count": 37,
   "metadata": {},
   "outputs": [
    {
     "name": "stdout",
     "output_type": "stream",
     "text": [
      "extracted value: 12340\n"
     ]
    }
   ],
   "source": [
    "data = input('enter a data:')\n",
    "if data.isnumeric():\n",
    "    num = int(data)\n",
    "    print('number:',num)\n",
    "else:\n",
    "    temp = '' # no space\n",
    "    for c in data:\n",
    "        if c.isnumeric():\n",
    "            temp+=c\n",
    "    num = int(temp)\n",
    "    print('extracted value:',num)"
   ]
  },
  {
   "cell_type": "markdown",
   "metadata": {},
   "source": [
    "#### remove all the punctuations from the following strings\n",
    " @@hello#!^%%!wo**"
   ]
  },
  {
   "cell_type": "code",
   "execution_count": 51,
   "metadata": {},
   "outputs": [
    {
     "name": "stdout",
     "output_type": "stream",
     "text": [
      "hello world\n"
     ]
    }
   ],
   "source": [
    "j = \"@@hello#!^%%! wo**rld\"\n",
    "text = \"#@!%^&*()\"\n",
    "for text in text:\n",
    "    j = j.replace(text,'')\n",
    "print(j)"
   ]
  },
  {
   "cell_type": "code",
   "execution_count": 52,
   "metadata": {},
   "outputs": [],
   "source": [
    "from string import punctuation"
   ]
  },
  {
   "cell_type": "code",
   "execution_count": 54,
   "metadata": {},
   "outputs": [
    {
     "name": "stdout",
     "output_type": "stream",
     "text": [
      "hello world\n"
     ]
    }
   ],
   "source": [
    "# easy method\n",
    "value = \"@@hello#!^%%! wo**rld\"\n",
    "for p in punctuation:\n",
    "    value = value.replace(p,'')\n",
    "print(value)\n"
   ]
  },
  {
   "cell_type": "code",
   "execution_count": null,
   "metadata": {},
   "outputs": [],
   "source": []
  }
 ],
 "metadata": {
  "interpreter": {
   "hash": "c4bb627c720bb325833297a37a3d07f2918af932b8d8e89a0df48100a492cd0a"
  },
  "kernelspec": {
   "display_name": "Python 3.10.2 64-bit",
   "language": "python",
   "name": "python3"
  },
  "language_info": {
   "codemirror_mode": {
    "name": "ipython",
    "version": 3
   },
   "file_extension": ".py",
   "mimetype": "text/x-python",
   "name": "python",
   "nbconvert_exporter": "python",
   "pygments_lexer": "ipython3",
   "version": "3.10.2"
  },
  "orig_nbformat": 4
 },
 "nbformat": 4,
 "nbformat_minor": 2
}
